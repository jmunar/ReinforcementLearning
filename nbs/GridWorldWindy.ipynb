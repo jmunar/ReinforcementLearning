{
 "cells": [
  {
   "cell_type": "markdown",
   "metadata": {},
   "source": [
    "```julia\n",
    "using Pkg\n",
    "Pkg.activate(\".\")\n",
    "Pkg.add(\"IJulia Plots Printf Revise Statistics\")\n",
    "Pkg.dev(\"..\")\n",
    "```"
   ]
  },
  {
   "cell_type": "code",
   "execution_count": 1,
   "metadata": {},
   "outputs": [],
   "source": [
    "# Error with scientific format in plot axes\n",
    "ENV[\"GKS_ENCODING\"] = \"utf8\"\n",
    "\n",
    "using Plots\n",
    "using Printf\n",
    "using Statistics\n",
    "\n",
    "# The default format SVG creates figures of size 9600x6400\n",
    "gr(fmt=\"png\")\n",
    "nothing"
   ]
  },
  {
   "cell_type": "code",
   "execution_count": 2,
   "metadata": {},
   "outputs": [],
   "source": [
    "using Revise"
   ]
  },
  {
   "cell_type": "code",
   "execution_count": 3,
   "metadata": {},
   "outputs": [],
   "source": [
    "using ReinforcementLearningSutton: GameGridWorldBase, GameGridWorld, LearningSarsa, PlayerεGreedy, play_game"
   ]
  },
  {
   "cell_type": "code",
   "execution_count": 4,
   "metadata": {},
   "outputs": [],
   "source": [
    "dims = (10, 7)\n",
    "pos_start = (1, 4)\n",
    "pos_goal = (8, 4)\n",
    "\n",
    "allowed_movements_all = Dict(\n",
    "    \"cross\"             => [( 1,  0), ( 0,  1), (-1,  0), ( 0, -1)],\n",
    "    \"queen\"             => [( 1,  0), ( 1,  1), ( 0,  1), (-1,  1), (-1,  0), (-1, -1), ( 0, -1), ( 1, -1)],\n",
    "    \"queen_plus_freeze\" => [( 1,  0), ( 1,  1), ( 0,  1), (-1,  1), (-1,  0), (-1, -1), ( 0, -1), ( 1, -1), ( 0 ,  0)]\n",
    ")\n",
    "wind_field = Array{Tuple{Int, Int}, 2}(undef, reverse(dims)...)\n",
    "\n",
    "for (ncol, wind_y) in enumerate([0 0 0 1 1 1 2 2 1 0])\n",
    "    for nrow in 1:dims[2]\n",
    "        wind_field[nrow, ncol] = (0, wind_y)\n",
    "    end\n",
    "end\n",
    "\n",
    "nothing"
   ]
  },
  {
   "cell_type": "markdown",
   "metadata": {},
   "source": [
    "### Let's first play the game without wind"
   ]
  },
  {
   "cell_type": "code",
   "execution_count": 5,
   "metadata": {},
   "outputs": [],
   "source": [
    "module GridWorld2d\n",
    "\n",
    "import ReinforcementLearningSutton: actions, finished, restart, state, update\n",
    "using ReinforcementLearningSutton: GameGridWorldBase, GameGridWorld, I2, T2, dims, state_set, tuple2index\n",
    "\n",
    "struct RulesetNonWindy\n",
    "    state_start::I2\n",
    "    state_goal::I2\n",
    "    \n",
    "    function RulesetNonWindy(game0::GameGridWorldBase, pos_start::T2, pos_goal::T2)\n",
    "        new(state(game0, pos_start), state(game0, pos_goal))\n",
    "    end\n",
    "end\n",
    "\n",
    "const GameType = GameGridWorld{GameGridWorldBase{T2, T2}, RulesetNonWindy}\n",
    "\n",
    "actions(game::GameType, state::I2) = game.game0.actions\n",
    "finished(game::GameType) = (state(game) == game.ruleset.state_goal)\n",
    "restart(game::GameType) = state_set(game, game.ruleset.state_start)\n",
    "\n",
    "function update(game::GameType, action::I2)::Int\n",
    "    s0 = state(game)\n",
    "    pos_x = max(1, min(s0.value[1] + action.value[1], dims(game)[1]))\n",
    "    pos_y = max(1, min(s0.value[2] + action.value[2], dims(game)[2]))\n",
    "    s = state(game, (pos_x, pos_y))\n",
    "    state_set(game, s)\n",
    "    -1\n",
    "end\n",
    "\n",
    "end;"
   ]
  },
  {
   "cell_type": "code",
   "execution_count": 6,
   "metadata": {},
   "outputs": [
    {
     "data": {
      "image/png": "[encoded data removed]"
     },
     "execution_count": 6,
     "metadata": {},
     "output_type": "execute_result"
    }
   ],
   "source": [
    "game0 = GameGridWorldBase(dims, allowed_movements_all[\"cross\"])\n",
    "ruleset = GridWorld2d.RulesetNonWindy(game0, pos_start, pos_goal)\n",
    "game = GridWorld2d.GameGridWorld(game0, ruleset)\n",
    "\n",
    "ε = 0.1\n",
    "player = PlayerεGreedy(game, ε)\n",
    "\n",
    "α = 0.5\n",
    "γ = 1.0\n",
    "learning = LearningSarsa(player, α, γ)\n",
    "\n",
    "max_nsteps = 1000\n",
    "ngames = 1000\n",
    "results = [play_game(game, player, max_nsteps, learning)[1] for _ in 1:ngames]\n",
    "histogram(results, bins=0:1:40, fillalpha=0.3)"
   ]
  },
  {
   "cell_type": "markdown",
   "metadata": {},
   "source": [
    "```julia\n",
    "# 1e6 games -> 0.5s\n",
    "function f(game, player, max_nsteps, learning, ngames)\n",
    "    [play_game(game, player, max_nsteps, learning) for _ in 1:ngames]\n",
    "end\n",
    "\n",
    "f(game, player, max_nsteps, learning, 1)\n",
    "\n",
    "@time f(game, player, max_nsteps, learning, 1000000);\n",
    "```"
   ]
  },
  {
   "cell_type": "markdown",
   "metadata": {},
   "source": [
    "#### Let's add some wind"
   ]
  },
  {
   "cell_type": "code",
   "execution_count": 7,
   "metadata": {},
   "outputs": [],
   "source": [
    "module GridWorldWindy2d\n",
    "\n",
    "import ReinforcementLearningSutton: actions, finished, restart, state, update\n",
    "using ReinforcementLearningSutton: GameGridWorldBase, GameGridWorld, I2, T2, dims, state_set, tuple2index\n",
    "\n",
    "struct RulesetWindConstant\n",
    "    state_start::I2\n",
    "    state_goal::I2\n",
    "    field::Array{T2, 2}\n",
    "    \n",
    "    function RulesetWindConstant(game0::GameGridWorldBase, pos_start::T2, pos_goal::T2, field::Array{T2, 2})\n",
    "        new(state(game0, pos_start), state(game0, pos_goal), field)\n",
    "    end\n",
    "end\n",
    "\n",
    "function wind(w::RulesetWindConstant, p::T2)\n",
    "    w.field[p[2], p[1]]\n",
    "end\n",
    "\n",
    "struct RulesetWindStochastic\n",
    "    state_start::I2\n",
    "    state_goal::I2\n",
    "    field::Array{T2, 2}\n",
    "    deltas::Vector{T2}\n",
    "    \n",
    "    function RulesetWindStochastic(game0::GameGridWorldBase, pos_start::T2, pos_goal::T2, field::Array{T2, 2}, deltas::Vector{T2})\n",
    "        new(state(game0, pos_start), state(game0, pos_goal), field, deltas)\n",
    "    end\n",
    "end\n",
    "\n",
    "function wind(w::RulesetWindStochastic, p::T2)\n",
    "    w.field[p[2], p[1]] .+ rand(w.deltas)\n",
    "end\n",
    "\n",
    "const GameType = Union{GameGridWorld{GameGridWorldBase{T2, T2}, RulesetWindConstant},\n",
    "                       GameGridWorld{GameGridWorldBase{T2, T2}, RulesetWindStochastic}}\n",
    "\n",
    "actions(game::GameType, state::I2) = game.game0.actions\n",
    "finished(game::GameType) = (state(game) == game.ruleset.state_goal)\n",
    "restart(game::GameType) = state_set(game, game.ruleset.state_start)\n",
    "\n",
    "function update(game::GameType, action::I2)::Int\n",
    "    s0 = state(game)\n",
    "    w = wind(game.ruleset, s0.value)\n",
    "    \n",
    "    pos_x = max(1, min(s0.value[1] + w[1] + action.value[1], dims(game)[1]))\n",
    "    pos_y = max(1, min(s0.value[2] + w[2] + action.value[2], dims(game)[2]))\n",
    "    s = state(game, (pos_x, pos_y))\n",
    "    state_set(game, s)\n",
    "    -1\n",
    "end\n",
    "\n",
    "end;"
   ]
  },
  {
   "cell_type": "markdown",
   "metadata": {},
   "source": [
    "##### Constant wind"
   ]
  },
  {
   "cell_type": "code",
   "execution_count": 8,
   "metadata": {},
   "outputs": [
    {
     "data": {
      "image/png": "[encoded data removed]"
     },
     "execution_count": 8,
     "metadata": {},
     "output_type": "execute_result"
    }
   ],
   "source": [
    "ε = 0.1\n",
    "α = 0.5\n",
    "γ = 1.0\n",
    "\n",
    "max_nsteps = 1000\n",
    "ngames = 100000\n",
    "results = zeros(Int, ngames, length(allowed_movements_all))\n",
    "for (i, lbl) in enumerate(keys(allowed_movements_all))\n",
    "    game0 = GameGridWorldBase(dims, allowed_movements_all[lbl])\n",
    "    ruleset = GridWorldWindy2d.RulesetWindConstant(game0, pos_start, pos_goal, wind_field)\n",
    "    game = GridWorld2d.GameGridWorld(game0, ruleset)\n",
    "    \n",
    "    player = PlayerεGreedy(game, ε)\n",
    "    learning = LearningSarsa(player, α, γ)\n",
    "\n",
    "    results[:, i] = [play_game(game, player, max_nsteps, learning)[1] for _ in 1:ngames]\n",
    "end\n",
    "\n",
    "histogram(results, bins=0:1:40, fillalpha=0.3, label=reshape(collect(keys(allowed_movements_all)), 1, :))"
   ]
  },
  {
   "cell_type": "code",
   "execution_count": 9,
   "metadata": {},
   "outputs": [
    {
     "data": {
      "text/plain": [
       "1×3 Array{Float64,2}:\n",
       " 9.0  9.0  18.0"
      ]
     },
     "execution_count": 9,
     "metadata": {},
     "output_type": "execute_result"
    }
   ],
   "source": [
    "median(results[900:end, :], dims=1)"
   ]
  },
  {
   "cell_type": "markdown",
   "metadata": {},
   "source": [
    "##### Stochastic wind"
   ]
  },
  {
   "cell_type": "code",
   "execution_count": 10,
   "metadata": {},
   "outputs": [
    {
     "data": {
      "image/png": "[encoded data removed]"
     },
     "execution_count": 10,
     "metadata": {},
     "output_type": "execute_result"
    }
   ],
   "source": [
    "ε = 0.1\n",
    "α = 0.5\n",
    "γ = 1.0\n",
    "\n",
    "max_nsteps = 1000\n",
    "ngames = 100000\n",
    "results = zeros(Int, ngames, length(allowed_movements_all))\n",
    "for (i, lbl) in enumerate(keys(allowed_movements_all))\n",
    "    game0 = GameGridWorldBase(dims, allowed_movements_all[lbl])\n",
    "    ruleset = GridWorldWindy2d.RulesetWindStochastic(game0, pos_start, pos_goal, wind_field, [(0, -1), (0, 0), (0, 1)])\n",
    "    game = GridWorld2d.GameGridWorld(game0, ruleset)\n",
    "    \n",
    "    player = PlayerεGreedy(game, ε)\n",
    "    learning = LearningSarsa(player, α, γ)\n",
    "\n",
    "    results[:, i] = [play_game(game, player, max_nsteps, learning)[1] for _ in 1:ngames]\n",
    "end\n",
    "\n",
    "histogram(results, bins=0:1:100, fillalpha=0.3, label=reshape(collect(keys(allowed_movements_all)), 1, :))"
   ]
  },
  {
   "cell_type": "code",
   "execution_count": 11,
   "metadata": {},
   "outputs": [
    {
     "data": {
      "text/plain": [
       "1×3 Array{Float64,2}:\n",
       " 24.0  25.0  36.0"
      ]
     },
     "execution_count": 11,
     "metadata": {},
     "output_type": "execute_result"
    }
   ],
   "source": [
    "median(results[900:end, :], dims=1)"
   ]
  }
 ],
 "metadata": {
  "kernelspec": {
   "display_name": "Julia 1.5.1",
   "language": "julia",
   "name": "julia-1.5"
  },
  "language_info": {
   "file_extension": ".jl",
   "mimetype": "application/julia",
   "name": "julia",
   "version": "1.5.1"
  }
 },
 "nbformat": 4,
 "nbformat_minor": 4
}
