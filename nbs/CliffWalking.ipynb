{
 "cells": [
  {
   "cell_type": "code",
   "execution_count": 1,
   "metadata": {},
   "outputs": [],
   "source": [
    "using Plots\n",
    "using Printf\n",
    "using Statistics\n",
    "\n",
    "# The default format SVG creates figures of size 9600x6400\n",
    "gr(fmt=\"png\")\n",
    "nothing"
   ]
  },
  {
   "cell_type": "code",
   "execution_count": 2,
   "metadata": {},
   "outputs": [],
   "source": [
    "using Revise"
   ]
  },
  {
   "cell_type": "code",
   "execution_count": 3,
   "metadata": {},
   "outputs": [
    {
     "data": {
      "text/plain": [
       "Main.CliffWalking"
      ]
     },
     "execution_count": 3,
     "metadata": {},
     "output_type": "execute_result"
    }
   ],
   "source": [
    "module CliffWalking\n",
    "\n",
    "using ReinforcementLearningSutton.Commons: Point\n",
    "using ReinforcementLearningSutton.GridWorld: GameGridWorldStatic, StateGridWorldStatic, ActionGridWorldStatic, restart, state, state_set, ncols, nrows\n",
    "import ReinforcementLearningSutton.GridWorld: update\n",
    "\n",
    "struct Cliff\n",
    "    track::Array{Bool, 2}\n",
    "    penalty::Int\n",
    "end\n",
    "\n",
    "function update(game::GameGridWorldStatic{Cliff}, action::ActionGridWorldStatic)::Int\n",
    "    cliff = game.ruleset\n",
    "    s0 = state(game)\n",
    "    \n",
    "    pos_x = max(1, min(s0.pos.x + action.move.x, ncols(game)))\n",
    "    pos_y = max(1, min(s0.pos.y + action.move.y, nrows(game)))\n",
    "    penalty = ifelse(cliff.track[pos_y, pos_x], cliff.penalty, -1)\n",
    "    \n",
    "    if penalty < -1\n",
    "        restart(game)\n",
    "    else\n",
    "        s = StateGridWorldStatic(nrows(game), ncols(game), Point(pos_x, pos_y))\n",
    "        state_set(game, s)\n",
    "    end\n",
    "    penalty\n",
    "end\n",
    "\n",
    "end"
   ]
  },
  {
   "cell_type": "code",
   "execution_count": 4,
   "metadata": {},
   "outputs": [],
   "source": [
    "using ReinforcementLearningSutton.Commons: LearningSarsa, LearningQ, PlayerεGreedy, Point, play_game\n",
    "using ReinforcementLearningSutton.GridWorld: GameGridWorldStaticBase, GameGridWorldStatic"
   ]
  },
  {
   "cell_type": "code",
   "execution_count": 5,
   "metadata": {},
   "outputs": [
    {
     "data": {
      "text/plain": [
       "Main.CliffWalking.Cliff(Bool[0 0 … 0 0; 0 0 … 0 0; 0 0 … 0 0; 0 1 … 1 0], -100)"
      ]
     },
     "execution_count": 5,
     "metadata": {},
     "output_type": "execute_result"
    }
   ],
   "source": [
    "nrows = 4\n",
    "ncols = 12\n",
    "pos_start = Point(1, nrows)\n",
    "pos_goal = Point(ncols, nrows)\n",
    "\n",
    "allowed_movements = \"cross\"\n",
    "\n",
    "cliff_track = zeros(Bool, nrows, ncols)\n",
    "cliff_track[nrows, 2:(ncols-1)] .= true\n",
    "cliff = CliffWalking.Cliff(cliff_track, -100)"
   ]
  },
  {
   "cell_type": "code",
   "execution_count": 6,
   "metadata": {},
   "outputs": [
    {
     "data": {
      "text/plain": [
       "GameGridWorldStatic{Main.CliffWalking.Cliff}(GameGridWorldStaticBase(4, 12, Base.RefValue{ReinforcementLearningSutton.GridWorld.StateGridWorldStatic}(State(pos=(1, 4))), State(pos=(1, 4)), State(pos=(12, 4)), \"cross\", (nothing,)), Main.CliffWalking.Cliff(Bool[0 0 … 0 0; 0 0 … 0 0; 0 0 … 0 0; 0 1 … 1 0], -100))"
      ]
     },
     "execution_count": 6,
     "metadata": {},
     "output_type": "execute_result"
    }
   ],
   "source": [
    "ε = 0.1\n",
    "α = 0.5\n",
    "γ = 1.0\n",
    "\n",
    "max_nrounds = 1000\n",
    "ngames = 100000\n",
    "\n",
    "game0 = GameGridWorldStaticBase(nrows, ncols, pos_start, pos_goal, allowed_movements)\n",
    "game = GameGridWorldStatic(game0, cliff)"
   ]
  },
  {
   "cell_type": "code",
   "execution_count": 7,
   "metadata": {},
   "outputs": [
    {
     "data": {
      "image/png": "[encoded data removed]"
     },
     "execution_count": 7,
     "metadata": {},
     "output_type": "execute_result"
    }
   ],
   "source": [
    "player = PlayerεGreedy(game, ε)\n",
    "learning = LearningSarsa(player, α, γ)\n",
    "\n",
    "results_sarsa = -[play_game(game, player, max_nrounds, learning) for _ in 1:ngames]\n",
    "\n",
    "histogram(results_sarsa, bins=0:1:40, fillalpha=0.3, label=reshape([\"sarsa\"], 1, :))"
   ]
  },
  {
   "cell_type": "code",
   "execution_count": 8,
   "metadata": {},
   "outputs": [
    {
     "data": {
      "text/plain": [
       "26.45764"
      ]
     },
     "execution_count": 8,
     "metadata": {},
     "output_type": "execute_result"
    }
   ],
   "source": [
    "mean(results_sarsa)"
   ]
  },
  {
   "cell_type": "code",
   "execution_count": 9,
   "metadata": {},
   "outputs": [
    {
     "data": {
      "image/png": "[encoded data removed]"
     },
     "execution_count": 9,
     "metadata": {},
     "output_type": "execute_result"
    }
   ],
   "source": [
    "player = PlayerεGreedy(game, ε)\n",
    "learning = LearningQ(player, α, γ)\n",
    "\n",
    "results_q = -[play_game(game, player, max_nrounds, learning) for _ in 1:ngames]\n",
    "\n",
    "histogram(results_q, bins=0:1:40, fillalpha=0.3, label=reshape([\"Q-learning\"], 1, :))"
   ]
  },
  {
   "cell_type": "code",
   "execution_count": 10,
   "metadata": {},
   "outputs": [
    {
     "data": {
      "text/plain": [
       "50.61999"
      ]
     },
     "execution_count": 10,
     "metadata": {},
     "output_type": "execute_result"
    }
   ],
   "source": [
    "mean(results_q)"
   ]
  }
 ],
 "metadata": {
  "kernelspec": {
   "display_name": "Julia 1.5.1",
   "language": "julia",
   "name": "julia-1.5"
  },
  "language_info": {
   "file_extension": ".jl",
   "mimetype": "application/julia",
   "name": "julia",
   "version": "1.5.1"
  }
 },
 "nbformat": 4,
 "nbformat_minor": 4
}
