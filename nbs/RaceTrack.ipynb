{
 "cells": [
  {
   "cell_type": "code",
   "execution_count": 1,
   "metadata": {},
   "outputs": [],
   "source": [
    "# Error with scientific format in plot axes\n",
    "ENV[\"GKS_ENCODING\"] = \"utf8\"\n",
    "\n",
    "using Plots\n",
    "using Printf\n",
    "using ProfileVega\n",
    "using Random\n",
    "using Statistics\n",
    "\n",
    "# The default format SVG creates figures of size 9600x6400\n",
    "ProfileVega.set_default_size(1200, 800)\n",
    "\n",
    "Random.seed!(42)\n",
    "\n",
    "# The default format SVG creates figures of size 9600x6400\n",
    "gr(fmt=\"png\")\n",
    "nothing"
   ]
  },
  {
   "cell_type": "code",
   "execution_count": 2,
   "metadata": {},
   "outputs": [],
   "source": [
    "using Revise"
   ]
  },
  {
   "cell_type": "markdown",
   "metadata": {},
   "source": [
    "#### Code"
   ]
  },
  {
   "cell_type": "code",
   "execution_count": 3,
   "metadata": {},
   "outputs": [],
   "source": [
    "module RaceTrack2d\n",
    "\n",
    "import ReinforcementLearningSutton: actions, finished, restart, update\n",
    "using ReinforcementLearningSutton: GameGridWorldBase, GameGridWorld, I2, T2, I4, T4, dims, index, nstates, state, state_set, states, value\n",
    "\n",
    "pos(t::T4) = t[1:2]\n",
    "speed(t::T4) = t[3:4]\n",
    "pos(i::I4) = pos(value(i))\n",
    "speed(i::I4) = speed(value(i))\n",
    "\n",
    "\"Find all cells crossed by the next movement and check if at least one of them is a goal\"\n",
    "function _path_intersects_goals(pos::T2, speed::T2, goals::Vector{T2})\n",
    "    if speed[2] == 0\n",
    "        length(intersect([pos .+ (i, 0) for i in 1:speed[1]], goals)) > 0\n",
    "    elseif speed[1] == 0\n",
    "        length(intersect([pos .+ (0, i) for i in 1:speed[2]], goals)) > 0\n",
    "    else\n",
    "        length(intersect([pos .+ (x, y) for x in 0:speed[1] for y in 0:speed[2]\n",
    "                          if (2y + 1) / (2x - 1) > pos[2] / pos[1] > (2y - 1) / (2x + 1)],\n",
    "                         goals)) > 0\n",
    "    end\n",
    "end\n",
    "\n",
    "\"Find out next state and check if it will be outside the track (and not through the goal)\"\n",
    "function _path_will_kill_you(state::I4, track::Array{Int, 2}, is_goal::Bool)\n",
    "    pf = pos(state) .+ speed(state)\n",
    "    ~is_goal && ((pf[1] < 1) || (pf[2] < 1) || (pf[1] > size(track)[1]) || (pf[2] > size(track)[2]) || (track[pf...] == 0))\n",
    "end\n",
    "\n",
    "\"Get all actions available for a given state, and index them from 1 to n\"\n",
    "function _state_actions(state::I4, all_actions::Vector{I2})\n",
    "    map(\n",
    "        ((i, a), ) -> I2(value(a), i),\n",
    "        enumerate(\n",
    "            filter(\n",
    "                a -> begin\n",
    "                    vf = speed(state) .+ value(a)\n",
    "                    (0 <= vf[1] < 5) && (-5 < vf[2] <= 0) && (vf[1] != 0 || vf[2] != 0)\n",
    "                    end,\n",
    "                all_actions\n",
    "            )\n",
    "        )\n",
    "    )\n",
    "end\n",
    "\n",
    "struct RulesetBase\n",
    "    states_start::Vector{I4}\n",
    "    state_is_goal::Vector{Bool}\n",
    "    state_is_death::Vector{Bool}\n",
    "    states_actions::Vector{Vector{I2}}\n",
    "    \n",
    "    prob_no_action::Float64\n",
    "    \n",
    "    function RulesetBase(game0::GameGridWorldBase, track::Array{Int, 2}, prob_no_action::Float64 = 0.0)\n",
    "        cells_start = [Tuple(idx) for idx in CartesianIndices(track) if track[idx] == 2]\n",
    "        cells_goal = [Tuple(idx) for idx in CartesianIndices(track) if track[idx] == 3]\n",
    "        states_start = map(p -> state(game0, (p..., 0, 0)), cells_start)\n",
    "\n",
    "        state_is_goal = map(s -> _path_intersects_goals(pos(s), speed(s), cells_goal), states(game0))\n",
    "        state_is_death = map((s, is_goal) -> _path_will_kill_you(s, track, is_goal), states(game0), state_is_goal)\n",
    "        states_actions =  map(s -> _state_actions(s, game0.actions), states(game0))\n",
    "        \n",
    "        new(states_start, state_is_goal, state_is_death, states_actions, prob_no_action)\n",
    "    end\n",
    "end\n",
    "\n",
    "const GameType = GameGridWorld{GameGridWorldBase{T4, T2}, RulesetBase}\n",
    "\n",
    "function actions(game::GameType, state::I4)\n",
    "    game.ruleset.states_actions[index(state)]\n",
    "end\n",
    "\n",
    "finished(game::GameType) = game.ruleset.state_is_goal[index(state(game))]\n",
    "restart(game::GameType) = state_set(game, rand(game.ruleset.states_start))\n",
    "\n",
    "function update(game::GameType, action::I2)::Int\n",
    "\n",
    "    if (game.ruleset.prob_no_action > 0) & (rand() < game.ruleset.prob_no_action)\n",
    "        action = I2((0, 0), 1)  # Index is not important\n",
    "    end\n",
    "\n",
    "    # Update speed to check if the movement is a winner/loser one\n",
    "    state_i = state(game)\n",
    "    speed_f = speed(state_i) .+ value(action)\n",
    "    state_f = state(game, (pos(state_i)..., speed_f...))\n",
    "\n",
    "    if game.ruleset.state_is_goal[index(state_f)]\n",
    "        ;\n",
    "    elseif game.ruleset.state_is_death[index(state_f)]\n",
    "        restart(game)\n",
    "    else\n",
    "        state_f = state(game, value(state_f) .+ (speed_f..., 0, 0))\n",
    "        state_set(game, state_f)\n",
    "    end\n",
    "    \n",
    "    -1\n",
    "end\n",
    "\n",
    "end;"
   ]
  },
  {
   "cell_type": "markdown",
   "metadata": {},
   "source": [
    "#### Game used for tests"
   ]
  },
  {
   "cell_type": "code",
   "execution_count": 4,
   "metadata": {},
   "outputs": [],
   "source": [
    "using ReinforcementLearningSutton: GameGridWorldBase, GameGridWorld, play_game\n",
    "\n",
    "track = permutedims(\n",
    "    [\n",
    "    0 0 0 1 1 1 1 1 1 1 1 1 1 1 1 1 3\n",
    "    0 0 1 1 1 1 1 1 1 1 1 1 1 1 1 1 3\n",
    "    0 0 1 1 1 1 1 1 1 1 1 1 1 1 1 1 3\n",
    "    0 1 1 1 1 1 1 1 1 1 1 1 1 1 1 1 3\n",
    "    1 1 1 1 1 1 1 1 1 1 1 1 1 1 1 1 3\n",
    "    1 1 1 1 1 1 1 1 1 1 1 1 1 1 1 1 3\n",
    "    1 1 1 1 1 1 1 1 1 1 0 0 0 0 0 0 0\n",
    "    1 1 1 1 1 1 1 1 1 0 0 0 0 0 0 0 0\n",
    "    1 1 1 1 1 1 1 1 1 0 0 0 0 0 0 0 0\n",
    "    1 1 1 1 1 1 1 1 1 0 0 0 0 0 0 0 0\n",
    "    1 1 1 1 1 1 1 1 1 0 0 0 0 0 0 0 0\n",
    "    1 1 1 1 1 1 1 1 1 0 0 0 0 0 0 0 0\n",
    "    1 1 1 1 1 1 1 1 1 0 0 0 0 0 0 0 0\n",
    "    1 1 1 1 1 1 1 1 1 0 0 0 0 0 0 0 0\n",
    "    0 1 1 1 1 1 1 1 1 0 0 0 0 0 0 0 0\n",
    "    0 1 1 1 1 1 1 1 1 0 0 0 0 0 0 0 0\n",
    "    0 1 1 1 1 1 1 1 1 0 0 0 0 0 0 0 0\n",
    "    0 1 1 1 1 1 1 1 1 0 0 0 0 0 0 0 0\n",
    "    0 1 1 1 1 1 1 1 1 0 0 0 0 0 0 0 0\n",
    "    0 1 1 1 1 1 1 1 1 0 0 0 0 0 0 0 0\n",
    "    0 1 1 1 1 1 1 1 1 0 0 0 0 0 0 0 0\n",
    "    0 1 1 1 1 1 1 1 1 0 0 0 0 0 0 0 0\n",
    "    0 0 1 1 1 1 1 1 1 0 0 0 0 0 0 0 0\n",
    "    0 0 1 1 1 1 1 1 1 0 0 0 0 0 0 0 0\n",
    "    0 0 1 1 1 1 1 1 1 0 0 0 0 0 0 0 0\n",
    "    0 0 1 1 1 1 1 1 1 0 0 0 0 0 0 0 0\n",
    "    0 0 1 1 1 1 1 1 1 0 0 0 0 0 0 0 0\n",
    "    0 0 1 1 1 1 1 1 1 0 0 0 0 0 0 0 0\n",
    "    0 0 1 1 1 1 1 1 1 0 0 0 0 0 0 0 0\n",
    "    0 0 0 1 1 1 1 1 1 0 0 0 0 0 0 0 0\n",
    "    0 0 0 1 1 1 1 1 1 0 0 0 0 0 0 0 0\n",
    "    0 0 0 2 2 2 2 2 2 0 0 0 0 0 0 0 0\n",
    "    ],\n",
    "    [2, 1])\n",
    "\n",
    "dims = (size(track)..., 5, 5)\n",
    "allowed_movements = [(1, 0), (0, 1), (-1, 0), (0, -1)]\n",
    "pos0 = (1, 1, 0, -4)\n",
    "\n",
    "game0 = GameGridWorldBase(dims, allowed_movements, pos0)\n",
    "ruleset = RaceTrack2d.RulesetBase(game0, track)\n",
    "game = GameGridWorld(game0, ruleset);"
   ]
  },
  {
   "cell_type": "markdown",
   "metadata": {},
   "source": [
    "#### Random policy"
   ]
  },
  {
   "cell_type": "code",
   "execution_count": 5,
   "metadata": {},
   "outputs": [
    {
     "data": {
      "image/png": "[encoded data removed]"
     },
     "execution_count": 5,
     "metadata": {},
     "output_type": "execute_result"
    }
   ],
   "source": [
    "using ReinforcementLearningSutton: PlayerRandom\n",
    "\n",
    "player = PlayerRandom(game)\n",
    "max_nsteps = 100000\n",
    "histogram([play_game(game, player, max_nsteps, nothing)[1] for _ in 1:10000])"
   ]
  },
  {
   "cell_type": "markdown",
   "metadata": {},
   "source": [
    "#### Off-policy Monte Carlo optimization"
   ]
  },
  {
   "cell_type": "code",
   "execution_count": 6,
   "metadata": {},
   "outputs": [
    {
     "name": "stdout",
     "output_type": "stream",
     "text": [
      "Γ: 0.5, optimization iterations: 10\n",
      "Average episode length: 17.34058\n",
      "Γ: 0.5, optimization iterations: 100\n",
      "Average episode length: 13.40823\n",
      "Γ: 0.5, optimization iterations: 1000\n",
      "Average episode length: 12.19733\n",
      "Γ: 0.5, optimization iterations: 10000\n",
      "Average episode length: 12.20001\n",
      "Γ: 0.9, optimization iterations: 10\n",
      "Average episode length: 16.60245\n",
      "Γ: 0.9, optimization iterations: 100\n",
      "Average episode length: 13.19938\n",
      "Γ: 0.9, optimization iterations: 1000\n",
      "Average episode length: 12.33414\n",
      "Γ: 0.9, optimization iterations: 10000\n",
      "Average episode length: 12.20083\n",
      "Γ: 1.0, optimization iterations: 10\n",
      "Average episode length: 15.98221\n",
      "Γ: 1.0, optimization iterations: 100\n",
      "Average episode length: 12.80429\n",
      "Γ: 1.0, optimization iterations: 1000\n",
      "Average episode length: 12.20077\n",
      "Γ: 1.0, optimization iterations: 10000\n",
      "Average episode length: 12.19946\n"
     ]
    }
   ],
   "source": [
    "using ReinforcementLearningSutton: LearningMonteCarloOffPolicy\n",
    "\n",
    "player_on_policy = PlayerRandom(game)\n",
    "\n",
    "for Γ in [0.5, 0.9, 1.0]\n",
    "    for max_n_iter in [10, 100, 1000, 10000]\n",
    "        learning = LearningMonteCarloOffPolicy(player_on_policy, max_nsteps, Γ, -500.)\n",
    "        [play_game(game, player_on_policy, max_nsteps, learning) for _ in 1:max_n_iter]\n",
    "\n",
    "        println(\"Γ: \", Γ, \", optimization iterations: \", max_n_iter)\n",
    "        println(\"Average episode length: \", mean([play_game(game, learning.player_off_policy)[1] for _ in 1:100000]))\n",
    "    end\n",
    "end"
   ]
  }
 ],
 "metadata": {
  "kernelspec": {
   "display_name": "Julia 1.5.1",
   "language": "julia",
   "name": "julia-1.5"
  },
  "language_info": {
   "file_extension": ".jl",
   "mimetype": "application/julia",
   "name": "julia",
   "version": "1.5.1"
  }
 },
 "nbformat": 4,
 "nbformat_minor": 4
}
