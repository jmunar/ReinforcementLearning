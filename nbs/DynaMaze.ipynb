{
 "cells": [
  {
   "cell_type": "code",
   "execution_count": null,
   "metadata": {},
   "outputs": [],
   "source": [
    "# Error with scientific format in plot axes\n",
    "ENV[\"GKS_ENCODING\"] = \"utf8\"\n",
    "\n",
    "using Plots\n",
    "using Printf\n",
    "using Statistics\n",
    "\n",
    "# The default format SVG creates figures of size 9600x6400\n",
    "gr(fmt=\"png\")\n",
    "nothing"
   ]
  },
  {
   "cell_type": "markdown",
   "metadata": {},
   "source": [
    "```julia\n",
    "using Revise\n",
    "```"
   ]
  },
  {
   "cell_type": "code",
   "execution_count": null,
   "metadata": {},
   "outputs": [
    {
     "name": "stderr",
     "output_type": "stream",
     "text": [
      "┌ Info: Precompiling ReinforcementLearningSutton [6417796d-59bf-4f93-aaf0-e2be7741ea64]\n",
      "└ @ Base loading.jl:1278\n"
     ]
    },
    {
     "data": {
      "text/plain": [
       "Main.MazeWorld"
      ]
     },
     "execution_count": null,
     "metadata": {},
     "output_type": "execute_result"
    }
   ],
   "source": [
    "module MazeWorld\n",
    "\n",
    "using ReinforcementLearningSutton.Commons: Point\n",
    "using ReinforcementLearningSutton.GridWorld: GameGridWorldStatic, StateGridWorldStatic, ActionGridWorldStatic, restart, state, state_set, ncols, nrows, finished\n",
    "import ReinforcementLearningSutton.GridWorld: update\n",
    "\n",
    "struct Maze\n",
    "    walls::Array{Bool, 2}\n",
    "end\n",
    "\n",
    "function update(game::GameGridWorldStatic{Maze}, action::ActionGridWorldStatic)::Int\n",
    "    maze = game.ruleset\n",
    "    s0 = state(game)\n",
    "    \n",
    "    pos_x = max(1, min(s0.pos.x + action.move.x, ncols(game)))\n",
    "    pos_y = max(1, min(s0.pos.y + action.move.y, nrows(game)))\n",
    "    \n",
    "    if ~maze.walls[pos_y, pos_x]\n",
    "        s = StateGridWorldStatic(nrows(game), ncols(game), Point(pos_x, pos_y))\n",
    "        state_set(game, s)\n",
    "    end\n",
    "    \n",
    "    finished(game) ? 1 : 0\n",
    "end\n",
    "\n",
    "end"
   ]
  },
  {
   "cell_type": "code",
   "execution_count": null,
   "metadata": {},
   "outputs": [],
   "source": [
    "using ReinforcementLearningSutton.Commons: LearningDynaQ, PlayerεGreedy, Point, play_game, nstep\n",
    "using ReinforcementLearningSutton.GridWorld: GameGridWorldStaticBase, GameGridWorldStatic"
   ]
  },
  {
   "cell_type": "code",
   "execution_count": null,
   "metadata": {},
   "outputs": [
    {
     "data": {
      "text/plain": [
       "6×9 Array{Bool,2}:\n",
       " 0  0  0  0  0  0  0  1  0\n",
       " 0  0  1  0  0  0  0  1  0\n",
       " 0  0  1  0  0  0  0  1  0\n",
       " 0  0  1  0  0  0  0  0  0\n",
       " 0  0  0  0  0  1  0  0  0\n",
       " 0  0  0  0  0  0  0  0  0"
      ]
     },
     "execution_count": null,
     "metadata": {},
     "output_type": "execute_result"
    }
   ],
   "source": [
    "nrows = 6\n",
    "ncols = 9\n",
    "pos_start = Point(1, 3)\n",
    "pos_goal = Point(9, 1)\n",
    "\n",
    "allowed_movements = \"cross\"\n",
    "\n",
    "maze_walls = zeros(Bool, nrows, ncols)\n",
    "maze_walls[2:4, 3] .= true\n",
    "maze_walls[5, 6] = true\n",
    "maze_walls[1:3, 8] .= true\n",
    "\n",
    "maze = MazeWorld.Maze(maze_walls)\n",
    "\n",
    "game0 = GameGridWorldStaticBase(nrows, ncols, pos_start, pos_goal, allowed_movements)\n",
    "game = GameGridWorldStatic(game0, maze)\n",
    "\n",
    "maze_walls"
   ]
  },
  {
   "cell_type": "markdown",
   "metadata": {},
   "source": [
    "### DynaQ: impact of $n$"
   ]
  },
  {
   "cell_type": "code",
   "execution_count": null,
   "metadata": {},
   "outputs": [],
   "source": [
    "ε = 0.1\n",
    "α = 0.1\n",
    "γ = 0.95\n",
    "\n",
    "ns = [0, 5, 50]\n",
    "max_nsteps = 1000\n",
    "ngames = 50\n",
    "\n",
    "results = zeros(Int, ngames, length(ns))\n",
    "\n",
    "for (i, n) in enumerate(ns)\n",
    "    player = PlayerεGreedy(game, ε)\n",
    "    learning = LearningDynaQ(player, n, α, γ)\n",
    "    results[:, i] = [play_game(game, player, max_nsteps, learning)[1] for _ in 1:ngames]\n",
    "end"
   ]
  },
  {
   "cell_type": "code",
   "execution_count": null,
   "metadata": {},
   "outputs": [
    {
     "data": {
      "image/png": "[encoded data removed]"
     },
     "execution_count": null,
     "metadata": {},
     "output_type": "execute_result"
    }
   ],
   "source": [
    "plot(results, label=[\"n=0\" \"n=5\" \"n=50\"], color = [:black :orange :red])"
   ]
  },
  {
   "cell_type": "code",
   "execution_count": null,
   "metadata": {},
   "outputs": [
    {
     "data": {
      "text/plain": [
       "1×3 Array{Float64,2}:\n",
       " 81.82  45.28  27.78"
      ]
     },
     "execution_count": null,
     "metadata": {},
     "output_type": "execute_result"
    }
   ],
   "source": [
    "mean(results, dims=1)"
   ]
  }
 ],
 "metadata": {
  "kernelspec": {
   "display_name": "Julia 1.5.1",
   "language": "julia",
   "name": "julia-1.5"
  },
  "language_info": {
   "file_extension": ".jl",
   "mimetype": "application/julia",
   "name": "julia",
   "version": "1.5.1"
  }
 },
 "nbformat": 4,
 "nbformat_minor": 4
}
