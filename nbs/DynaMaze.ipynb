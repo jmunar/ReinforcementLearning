{
 "cells": [
  {
   "cell_type": "code",
   "execution_count": 1,
   "metadata": {},
   "outputs": [],
   "source": [
    "# Error with scientific format in plot axes\n",
    "ENV[\"GKS_ENCODING\"] = \"utf8\"\n",
    "\n",
    "using Plots\n",
    "using Printf\n",
    "using ProfileVega\n",
    "using Random\n",
    "using Revise\n",
    "using Statistics\n",
    "\n",
    "# The default format SVG creates figures of size 9600x6400\n",
    "ProfileVega.set_default_size(1200, 800)\n",
    "\n",
    "Random.seed!(42)\n",
    "\n",
    "# The default format SVG creates figures of size 9600x6400\n",
    "gr(fmt=\"png\")\n",
    "nothing"
   ]
  },
  {
   "cell_type": "code",
   "execution_count": 2,
   "metadata": {},
   "outputs": [
    {
     "data": {
      "text/plain": [
       "Main.MazeWorld"
      ]
     },
     "execution_count": 2,
     "metadata": {},
     "output_type": "execute_result"
    }
   ],
   "source": [
    "module MazeWorld\n",
    "\n",
    "using ReinforcementLearningSutton: GameGridWorldBase, GameGridWorld, I2, T2, dims, state, state_set\n",
    "import ReinforcementLearningSutton: actions, finished, restart, update\n",
    "\n",
    "struct Maze\n",
    "    state_start::I2\n",
    "    state_goal::I2\n",
    "    walls::Array{Bool, 2}\n",
    "    \n",
    "    function Maze(game0::GameGridWorldBase, pos_start::T2, pos_goal::T2, walls::Array{Bool, 2})\n",
    "        new(state(game0, pos_start), state(game0, pos_goal), walls)\n",
    "    end\n",
    "end\n",
    "\n",
    "const GameType = GameGridWorld{GameGridWorldBase{T2, T2}, Maze}\n",
    "\n",
    "actions(game::GameType, state::I2) = game.game0.actions\n",
    "finished(game::GameType) = (state(game) == game.ruleset.state_goal)\n",
    "restart(game::GameType) = state_set(game, game.ruleset.state_start)\n",
    "\n",
    "function update(game::GameType, action::I2)::Int\n",
    "    maze = game.ruleset\n",
    "    s0 = state(game)\n",
    "    \n",
    "    pos_x = max(1, min(s0.value[1] + action.value[1], dims(game)[1]))\n",
    "    pos_y = max(1, min(s0.value[2] + action.value[2], dims(game)[2]))\n",
    " \n",
    "    if ~maze.walls[pos_x, pos_y]\n",
    "        s = state(game, (pos_x, pos_y))\n",
    "        state_set(game, s)\n",
    "    end\n",
    "\n",
    "    finished(game) ? 1 : 0\n",
    "end\n",
    "\n",
    "end"
   ]
  },
  {
   "cell_type": "code",
   "execution_count": 3,
   "metadata": {},
   "outputs": [],
   "source": [
    "using ReinforcementLearningSutton: GameGridWorldBase, GameGridWorld, LearningDynaQ, PlayerεGreedy, play_game"
   ]
  },
  {
   "cell_type": "code",
   "execution_count": 4,
   "metadata": {},
   "outputs": [
    {
     "data": {
      "text/plain": [
       "6×9 Array{Bool,2}:\n",
       " 0  0  0  0  0  0  0  1  0\n",
       " 0  0  1  0  0  0  0  1  0\n",
       " 0  0  1  0  0  0  0  1  0\n",
       " 0  0  1  0  0  0  0  0  0\n",
       " 0  0  0  0  0  1  0  0  0\n",
       " 0  0  0  0  0  0  0  0  0"
      ]
     },
     "execution_count": 4,
     "metadata": {},
     "output_type": "execute_result"
    }
   ],
   "source": [
    "dims = (9, 6)\n",
    "pos_start = (1, 3)\n",
    "pos_goal = (9, 1)\n",
    "\n",
    "allowed_movements = [(1, 0), (0, 1), (-1, 0), (0, -1)]\n",
    "\n",
    "maze_walls = zeros(Bool, dims...)\n",
    "maze_walls[3, 2:4] .= true\n",
    "maze_walls[6, 5] = true\n",
    "maze_walls[8, 1:3] .= true\n",
    "\n",
    "game0 = GameGridWorldBase(dims, allowed_movements)\n",
    "maze = MazeWorld.Maze(game0, pos_start, pos_goal, maze_walls)\n",
    "game = GameGridWorld(game0, maze)\n",
    "\n",
    "permutedims(maze_walls, [2, 1])"
   ]
  },
  {
   "cell_type": "markdown",
   "metadata": {},
   "source": [
    "### DynaQ: impact of $n$"
   ]
  },
  {
   "cell_type": "code",
   "execution_count": 5,
   "metadata": {},
   "outputs": [],
   "source": [
    "ε = 0.1\n",
    "α = 0.1\n",
    "γ = 0.95\n",
    "\n",
    "ns = [0, 5, 50]\n",
    "max_nsteps = 1000\n",
    "ngames = 50\n",
    "navg = 1000\n",
    "\n",
    "results = zeros(Int, ngames, navg, length(ns))\n",
    "\n",
    "for (i, n) in enumerate(ns)\n",
    "    for j in 1:navg\n",
    "        player = PlayerεGreedy(game, ε)\n",
    "        learning = LearningDynaQ(player, n, α, γ)\n",
    "        results[:, j, i] = [play_game(game, player, max_nsteps, learning)[1] for _ in 1:ngames]\n",
    "    end\n",
    "end"
   ]
  },
  {
   "cell_type": "code",
   "execution_count": 6,
   "metadata": {},
   "outputs": [
    {
     "data": {
      "image/png": "[encoded data removed]"
     },
     "execution_count": 6,
     "metadata": {},
     "output_type": "execute_result"
    }
   ],
   "source": [
    "plot(mean(results, dims=2)[:, 1, :], label=[\"n=0\" \"n=5\" \"n=50\"], color = [:black :orange :red])"
   ]
  },
  {
   "cell_type": "code",
   "execution_count": 7,
   "metadata": {},
   "outputs": [
    {
     "data": {
      "text/plain": [
       "3-element Array{Float64,1}:\n",
       " 100.5295\n",
       "  39.19326\n",
       "  34.0045"
      ]
     },
     "execution_count": 7,
     "metadata": {},
     "output_type": "execute_result"
    }
   ],
   "source": [
    "mean(results, dims=[1, 2])[1, 1, :]"
   ]
  }
 ],
 "metadata": {
  "kernelspec": {
   "display_name": "Julia 1.5.1",
   "language": "julia",
   "name": "julia-1.5"
  },
  "language_info": {
   "file_extension": ".jl",
   "mimetype": "application/julia",
   "name": "julia",
   "version": "1.5.1"
  }
 },
 "nbformat": 4,
 "nbformat_minor": 4
}
